{
 "cells": [
  {
   "cell_type": "code",
   "execution_count": 158,
   "metadata": {},
   "outputs": [],
   "source": [
    "import pandas as pd"
   ]
  },
  {
   "cell_type": "code",
   "execution_count": 159,
   "metadata": {},
   "outputs": [
    {
     "data": {
      "text/html": [
       "<div>\n",
       "<style scoped>\n",
       "    .dataframe tbody tr th:only-of-type {\n",
       "        vertical-align: middle;\n",
       "    }\n",
       "\n",
       "    .dataframe tbody tr th {\n",
       "        vertical-align: top;\n",
       "    }\n",
       "\n",
       "    .dataframe thead th {\n",
       "        text-align: right;\n",
       "    }\n",
       "</style>\n",
       "<table border=\"1\" class=\"dataframe\">\n",
       "  <thead>\n",
       "    <tr style=\"text-align: right;\">\n",
       "      <th></th>\n",
       "      <th>Daily Time Spent on Site</th>\n",
       "      <th>Age</th>\n",
       "      <th>Area Income</th>\n",
       "      <th>Daily Internet Usage</th>\n",
       "      <th>Ad Topic Line</th>\n",
       "      <th>City</th>\n",
       "      <th>Gender</th>\n",
       "      <th>Country</th>\n",
       "      <th>Timestamp</th>\n",
       "      <th>Clicked on Ad</th>\n",
       "    </tr>\n",
       "  </thead>\n",
       "  <tbody>\n",
       "    <tr>\n",
       "      <th>0</th>\n",
       "      <td>78.84</td>\n",
       "      <td>30.0</td>\n",
       "      <td>68448.94</td>\n",
       "      <td>161.79</td>\n",
       "      <td>Front-line even-keeled website</td>\n",
       "      <td>Silvaton</td>\n",
       "      <td>Male</td>\n",
       "      <td>Peru</td>\n",
       "      <td>2016-04-04 03:57:48</td>\n",
       "      <td>1</td>\n",
       "    </tr>\n",
       "    <tr>\n",
       "      <th>1</th>\n",
       "      <td>60.23</td>\n",
       "      <td>35.0</td>\n",
       "      <td>66815.54</td>\n",
       "      <td>216.24</td>\n",
       "      <td>Front-line fresh-thinking open system</td>\n",
       "      <td>West Jeremyside</td>\n",
       "      <td>Male</td>\n",
       "      <td>Papua New Guinea</td>\n",
       "      <td>2016-06-18 16:02:34</td>\n",
       "      <td>0</td>\n",
       "    </tr>\n",
       "    <tr>\n",
       "      <th>2</th>\n",
       "      <td>46.20</td>\n",
       "      <td>49.0</td>\n",
       "      <td>62109.80</td>\n",
       "      <td>135.24</td>\n",
       "      <td>Enhanced maximized access</td>\n",
       "      <td>Lake Vanessa</td>\n",
       "      <td>Male</td>\n",
       "      <td>Chile</td>\n",
       "      <td>2016-06-26 07:01:47</td>\n",
       "      <td>1</td>\n",
       "    </tr>\n",
       "    <tr>\n",
       "      <th>3</th>\n",
       "      <td>87.85</td>\n",
       "      <td>31.0</td>\n",
       "      <td>50055.33</td>\n",
       "      <td>134.46</td>\n",
       "      <td>Total zero administration software</td>\n",
       "      <td>Port Sherrystad</td>\n",
       "      <td>Male</td>\n",
       "      <td>French Polynesia</td>\n",
       "      <td>2016-04-18 21:07:28</td>\n",
       "      <td>1</td>\n",
       "    </tr>\n",
       "    <tr>\n",
       "      <th>4</th>\n",
       "      <td>64.38</td>\n",
       "      <td>37.0</td>\n",
       "      <td>55121.65</td>\n",
       "      <td>232.54</td>\n",
       "      <td>Devolved regional moderator</td>\n",
       "      <td>South Patrickfort</td>\n",
       "      <td>Female</td>\n",
       "      <td>Bosnia and Herzegovina</td>\n",
       "      <td>2016-07-18 18:33:05</td>\n",
       "      <td>0</td>\n",
       "    </tr>\n",
       "  </tbody>\n",
       "</table>\n",
       "</div>"
      ],
      "text/plain": [
       "   Daily Time Spent on Site   Age  Area Income  Daily Internet Usage  \\\n",
       "0                     78.84  30.0     68448.94                161.79   \n",
       "1                     60.23  35.0     66815.54                216.24   \n",
       "2                     46.20  49.0     62109.80                135.24   \n",
       "3                     87.85  31.0     50055.33                134.46   \n",
       "4                     64.38  37.0     55121.65                232.54   \n",
       "\n",
       "                           Ad Topic Line               City  Gender  \\\n",
       "0         Front-line even-keeled website           Silvaton    Male   \n",
       "1  Front-line fresh-thinking open system    West Jeremyside    Male   \n",
       "2              Enhanced maximized access       Lake Vanessa    Male   \n",
       "3     Total zero administration software    Port Sherrystad    Male   \n",
       "4            Devolved regional moderator  South Patrickfort  Female   \n",
       "\n",
       "                  Country            Timestamp  Clicked on Ad  \n",
       "0                    Peru  2016-04-04 03:57:48              1  \n",
       "1        Papua New Guinea  2016-06-18 16:02:34              0  \n",
       "2                   Chile  2016-06-26 07:01:47              1  \n",
       "3        French Polynesia  2016-04-18 21:07:28              1  \n",
       "4  Bosnia and Herzegovina  2016-07-18 18:33:05              0  "
      ]
     },
     "execution_count": 159,
     "metadata": {},
     "output_type": "execute_result"
    }
   ],
   "source": [
    "df = pd.read_csv(\"ad.csv\")\n",
    "df.head()"
   ]
  },
  {
   "cell_type": "code",
   "execution_count": 160,
   "metadata": {},
   "outputs": [
    {
     "data": {
      "text/plain": [
       "Daily Time Spent on Site    0\n",
       "Age                         0\n",
       "Area Income                 0\n",
       "Daily Internet Usage        0\n",
       "Ad Topic Line               0\n",
       "City                        0\n",
       "Gender                      0\n",
       "Country                     0\n",
       "Timestamp                   0\n",
       "Clicked on Ad               0\n",
       "dtype: int64"
      ]
     },
     "execution_count": 160,
     "metadata": {},
     "output_type": "execute_result"
    }
   ],
   "source": [
    "df.isnull().sum()"
   ]
  },
  {
   "cell_type": "code",
   "execution_count": 161,
   "metadata": {},
   "outputs": [
    {
     "data": {
      "text/plain": [
       "Index(['Daily Time Spent on Site', 'Age', 'Area Income',\n",
       "       'Daily Internet Usage', 'Ad Topic Line', 'City', 'Gender', 'Country',\n",
       "       'Timestamp', 'Clicked on Ad'],\n",
       "      dtype='object')"
      ]
     },
     "execution_count": 161,
     "metadata": {},
     "output_type": "execute_result"
    }
   ],
   "source": [
    "df.columns"
   ]
  },
  {
   "cell_type": "code",
   "execution_count": 162,
   "metadata": {},
   "outputs": [
    {
     "name": "stdout",
     "output_type": "stream",
     "text": [
      "<class 'pandas.core.frame.DataFrame'>\n",
      "RangeIndex: 50000 entries, 0 to 49999\n",
      "Data columns (total 10 columns):\n",
      " #   Column                    Non-Null Count  Dtype  \n",
      "---  ------                    --------------  -----  \n",
      " 0   Daily Time Spent on Site  50000 non-null  float64\n",
      " 1   Age                       50000 non-null  float64\n",
      " 2   Area Income               50000 non-null  float64\n",
      " 3   Daily Internet Usage      50000 non-null  float64\n",
      " 4   Ad Topic Line             50000 non-null  object \n",
      " 5   City                      50000 non-null  object \n",
      " 6   Gender                    50000 non-null  object \n",
      " 7   Country                   50000 non-null  object \n",
      " 8   Timestamp                 50000 non-null  object \n",
      " 9   Clicked on Ad             50000 non-null  int64  \n",
      "dtypes: float64(4), int64(1), object(5)\n",
      "memory usage: 3.8+ MB\n"
     ]
    }
   ],
   "source": [
    "df.info()"
   ]
  },
  {
   "cell_type": "code",
   "execution_count": 163,
   "metadata": {},
   "outputs": [
    {
     "data": {
      "text/html": [
       "<div>\n",
       "<style scoped>\n",
       "    .dataframe tbody tr th:only-of-type {\n",
       "        vertical-align: middle;\n",
       "    }\n",
       "\n",
       "    .dataframe tbody tr th {\n",
       "        vertical-align: top;\n",
       "    }\n",
       "\n",
       "    .dataframe thead th {\n",
       "        text-align: right;\n",
       "    }\n",
       "</style>\n",
       "<table border=\"1\" class=\"dataframe\">\n",
       "  <thead>\n",
       "    <tr style=\"text-align: right;\">\n",
       "      <th></th>\n",
       "      <th>Daily Time Spent on Site</th>\n",
       "      <th>Age</th>\n",
       "      <th>Area Income</th>\n",
       "      <th>Daily Internet Usage</th>\n",
       "    </tr>\n",
       "  </thead>\n",
       "  <tbody>\n",
       "    <tr>\n",
       "      <th>0</th>\n",
       "      <td>78.84</td>\n",
       "      <td>30.0</td>\n",
       "      <td>68448.94</td>\n",
       "      <td>161.79</td>\n",
       "    </tr>\n",
       "    <tr>\n",
       "      <th>1</th>\n",
       "      <td>60.23</td>\n",
       "      <td>35.0</td>\n",
       "      <td>66815.54</td>\n",
       "      <td>216.24</td>\n",
       "    </tr>\n",
       "    <tr>\n",
       "      <th>2</th>\n",
       "      <td>46.20</td>\n",
       "      <td>49.0</td>\n",
       "      <td>62109.80</td>\n",
       "      <td>135.24</td>\n",
       "    </tr>\n",
       "    <tr>\n",
       "      <th>3</th>\n",
       "      <td>87.85</td>\n",
       "      <td>31.0</td>\n",
       "      <td>50055.33</td>\n",
       "      <td>134.46</td>\n",
       "    </tr>\n",
       "    <tr>\n",
       "      <th>4</th>\n",
       "      <td>64.38</td>\n",
       "      <td>37.0</td>\n",
       "      <td>55121.65</td>\n",
       "      <td>232.54</td>\n",
       "    </tr>\n",
       "    <tr>\n",
       "      <th>...</th>\n",
       "      <td>...</td>\n",
       "      <td>...</td>\n",
       "      <td>...</td>\n",
       "      <td>...</td>\n",
       "    </tr>\n",
       "    <tr>\n",
       "      <th>49995</th>\n",
       "      <td>56.64</td>\n",
       "      <td>37.0</td>\n",
       "      <td>64011.26</td>\n",
       "      <td>124.34</td>\n",
       "    </tr>\n",
       "    <tr>\n",
       "      <th>49996</th>\n",
       "      <td>78.36</td>\n",
       "      <td>42.0</td>\n",
       "      <td>60812.77</td>\n",
       "      <td>145.98</td>\n",
       "    </tr>\n",
       "    <tr>\n",
       "      <th>49997</th>\n",
       "      <td>38.35</td>\n",
       "      <td>33.0</td>\n",
       "      <td>51512.66</td>\n",
       "      <td>226.54</td>\n",
       "    </tr>\n",
       "    <tr>\n",
       "      <th>49998</th>\n",
       "      <td>75.84</td>\n",
       "      <td>36.0</td>\n",
       "      <td>50971.73</td>\n",
       "      <td>218.17</td>\n",
       "    </tr>\n",
       "    <tr>\n",
       "      <th>49999</th>\n",
       "      <td>41.84</td>\n",
       "      <td>41.0</td>\n",
       "      <td>39723.97</td>\n",
       "      <td>156.36</td>\n",
       "    </tr>\n",
       "  </tbody>\n",
       "</table>\n",
       "<p>50000 rows × 4 columns</p>\n",
       "</div>"
      ],
      "text/plain": [
       "       Daily Time Spent on Site   Age  Area Income  Daily Internet Usage\n",
       "0                         78.84  30.0     68448.94                161.79\n",
       "1                         60.23  35.0     66815.54                216.24\n",
       "2                         46.20  49.0     62109.80                135.24\n",
       "3                         87.85  31.0     50055.33                134.46\n",
       "4                         64.38  37.0     55121.65                232.54\n",
       "...                         ...   ...          ...                   ...\n",
       "49995                     56.64  37.0     64011.26                124.34\n",
       "49996                     78.36  42.0     60812.77                145.98\n",
       "49997                     38.35  33.0     51512.66                226.54\n",
       "49998                     75.84  36.0     50971.73                218.17\n",
       "49999                     41.84  41.0     39723.97                156.36\n",
       "\n",
       "[50000 rows x 4 columns]"
      ]
     },
     "execution_count": 163,
     "metadata": {},
     "output_type": "execute_result"
    }
   ],
   "source": [
    "X = df.iloc[:, 0:7]\n",
    "X = X.drop(['Ad Topic Line', 'City', 'Gender'], axis=1)\n",
    "X"
   ]
  },
  {
   "cell_type": "code",
   "execution_count": 164,
   "metadata": {},
   "outputs": [],
   "source": [
    "#df = pd.get_dummies(df, columns= [\"Gender\"])\n",
    "#df.head()"
   ]
  },
  {
   "cell_type": "code",
   "execution_count": 165,
   "metadata": {},
   "outputs": [],
   "source": [
    "#df[\"Gender_Female\"] = df[\"Gender_Female\"].astype(int)"
   ]
  },
  {
   "cell_type": "code",
   "execution_count": 166,
   "metadata": {},
   "outputs": [],
   "source": [
    "#[\"Gender_Male\"] = df[\"Gender_Male\"].astype(int)"
   ]
  },
  {
   "cell_type": "code",
   "execution_count": 167,
   "metadata": {},
   "outputs": [
    {
     "name": "stdout",
     "output_type": "stream",
     "text": [
      "<class 'pandas.core.frame.DataFrame'>\n",
      "RangeIndex: 50000 entries, 0 to 49999\n",
      "Data columns (total 10 columns):\n",
      " #   Column                    Non-Null Count  Dtype  \n",
      "---  ------                    --------------  -----  \n",
      " 0   Daily Time Spent on Site  50000 non-null  float64\n",
      " 1   Age                       50000 non-null  float64\n",
      " 2   Area Income               50000 non-null  float64\n",
      " 3   Daily Internet Usage      50000 non-null  float64\n",
      " 4   Ad Topic Line             50000 non-null  object \n",
      " 5   City                      50000 non-null  object \n",
      " 6   Gender                    50000 non-null  object \n",
      " 7   Country                   50000 non-null  object \n",
      " 8   Timestamp                 50000 non-null  object \n",
      " 9   Clicked on Ad             50000 non-null  int64  \n",
      "dtypes: float64(4), int64(1), object(5)\n",
      "memory usage: 3.8+ MB\n"
     ]
    }
   ],
   "source": [
    "df.info()"
   ]
  },
  {
   "cell_type": "code",
   "execution_count": 168,
   "metadata": {},
   "outputs": [
    {
     "data": {
      "text/html": [
       "<div>\n",
       "<style scoped>\n",
       "    .dataframe tbody tr th:only-of-type {\n",
       "        vertical-align: middle;\n",
       "    }\n",
       "\n",
       "    .dataframe tbody tr th {\n",
       "        vertical-align: top;\n",
       "    }\n",
       "\n",
       "    .dataframe thead th {\n",
       "        text-align: right;\n",
       "    }\n",
       "</style>\n",
       "<table border=\"1\" class=\"dataframe\">\n",
       "  <thead>\n",
       "    <tr style=\"text-align: right;\">\n",
       "      <th></th>\n",
       "      <th>Daily Time Spent on Site</th>\n",
       "      <th>Age</th>\n",
       "      <th>Area Income</th>\n",
       "      <th>Daily Internet Usage</th>\n",
       "      <th>Ad Topic Line</th>\n",
       "      <th>City</th>\n",
       "      <th>Gender</th>\n",
       "      <th>Country</th>\n",
       "      <th>Timestamp</th>\n",
       "      <th>Clicked on Ad</th>\n",
       "    </tr>\n",
       "  </thead>\n",
       "  <tbody>\n",
       "    <tr>\n",
       "      <th>0</th>\n",
       "      <td>78.84</td>\n",
       "      <td>30.0</td>\n",
       "      <td>68448.94</td>\n",
       "      <td>161.79</td>\n",
       "      <td>Front-line even-keeled website</td>\n",
       "      <td>Silvaton</td>\n",
       "      <td>Male</td>\n",
       "      <td>Peru</td>\n",
       "      <td>2016-04-04 03:57:48</td>\n",
       "      <td>1</td>\n",
       "    </tr>\n",
       "    <tr>\n",
       "      <th>1</th>\n",
       "      <td>60.23</td>\n",
       "      <td>35.0</td>\n",
       "      <td>66815.54</td>\n",
       "      <td>216.24</td>\n",
       "      <td>Front-line fresh-thinking open system</td>\n",
       "      <td>West Jeremyside</td>\n",
       "      <td>Male</td>\n",
       "      <td>Papua New Guinea</td>\n",
       "      <td>2016-06-18 16:02:34</td>\n",
       "      <td>0</td>\n",
       "    </tr>\n",
       "    <tr>\n",
       "      <th>2</th>\n",
       "      <td>46.20</td>\n",
       "      <td>49.0</td>\n",
       "      <td>62109.80</td>\n",
       "      <td>135.24</td>\n",
       "      <td>Enhanced maximized access</td>\n",
       "      <td>Lake Vanessa</td>\n",
       "      <td>Male</td>\n",
       "      <td>Chile</td>\n",
       "      <td>2016-06-26 07:01:47</td>\n",
       "      <td>1</td>\n",
       "    </tr>\n",
       "    <tr>\n",
       "      <th>3</th>\n",
       "      <td>87.85</td>\n",
       "      <td>31.0</td>\n",
       "      <td>50055.33</td>\n",
       "      <td>134.46</td>\n",
       "      <td>Total zero administration software</td>\n",
       "      <td>Port Sherrystad</td>\n",
       "      <td>Male</td>\n",
       "      <td>French Polynesia</td>\n",
       "      <td>2016-04-18 21:07:28</td>\n",
       "      <td>1</td>\n",
       "    </tr>\n",
       "    <tr>\n",
       "      <th>4</th>\n",
       "      <td>64.38</td>\n",
       "      <td>37.0</td>\n",
       "      <td>55121.65</td>\n",
       "      <td>232.54</td>\n",
       "      <td>Devolved regional moderator</td>\n",
       "      <td>South Patrickfort</td>\n",
       "      <td>Female</td>\n",
       "      <td>Bosnia and Herzegovina</td>\n",
       "      <td>2016-07-18 18:33:05</td>\n",
       "      <td>0</td>\n",
       "    </tr>\n",
       "  </tbody>\n",
       "</table>\n",
       "</div>"
      ],
      "text/plain": [
       "   Daily Time Spent on Site   Age  Area Income  Daily Internet Usage  \\\n",
       "0                     78.84  30.0     68448.94                161.79   \n",
       "1                     60.23  35.0     66815.54                216.24   \n",
       "2                     46.20  49.0     62109.80                135.24   \n",
       "3                     87.85  31.0     50055.33                134.46   \n",
       "4                     64.38  37.0     55121.65                232.54   \n",
       "\n",
       "                           Ad Topic Line               City  Gender  \\\n",
       "0         Front-line even-keeled website           Silvaton    Male   \n",
       "1  Front-line fresh-thinking open system    West Jeremyside    Male   \n",
       "2              Enhanced maximized access       Lake Vanessa    Male   \n",
       "3     Total zero administration software    Port Sherrystad    Male   \n",
       "4            Devolved regional moderator  South Patrickfort  Female   \n",
       "\n",
       "                  Country            Timestamp  Clicked on Ad  \n",
       "0                    Peru  2016-04-04 03:57:48              1  \n",
       "1        Papua New Guinea  2016-06-18 16:02:34              0  \n",
       "2                   Chile  2016-06-26 07:01:47              1  \n",
       "3        French Polynesia  2016-04-18 21:07:28              1  \n",
       "4  Bosnia and Herzegovina  2016-07-18 18:33:05              0  "
      ]
     },
     "execution_count": 168,
     "metadata": {},
     "output_type": "execute_result"
    }
   ],
   "source": [
    "df.head()"
   ]
  },
  {
   "cell_type": "code",
   "execution_count": 169,
   "metadata": {},
   "outputs": [
    {
     "data": {
      "text/plain": [
       "0        1\n",
       "1        0\n",
       "2        1\n",
       "3        1\n",
       "4        0\n",
       "        ..\n",
       "49995    1\n",
       "49996    1\n",
       "49997    1\n",
       "49998    1\n",
       "49999    1\n",
       "Name: Clicked on Ad, Length: 50000, dtype: int64"
      ]
     },
     "execution_count": 169,
     "metadata": {},
     "output_type": "execute_result"
    }
   ],
   "source": [
    "y = df.iloc[:, 9]\n",
    "y"
   ]
  },
  {
   "cell_type": "code",
   "execution_count": 170,
   "metadata": {},
   "outputs": [
    {
     "name": "stdout",
     "output_type": "stream",
     "text": [
      "(7500, 4)\n",
      "(42500, 4)\n",
      "(7500,)\n",
      "(42500,)\n"
     ]
    }
   ],
   "source": [
    "from sklearn.model_selection import train_test_split\n",
    "X_train, X_test, y_train, y_test = train_test_split(X, y, test_size=0.85, random_state=42)\n",
    "\n",
    "print(X_train.shape)\n",
    "print(X_test.shape)\n",
    "print(y_train.shape)\n",
    "print(y_test.shape)"
   ]
  },
  {
   "cell_type": "code",
   "execution_count": 171,
   "metadata": {},
   "outputs": [
    {
     "data": {
      "text/plain": [
       "array([1, 0, 1, ..., 0, 0, 1], dtype=int64)"
      ]
     },
     "execution_count": 171,
     "metadata": {},
     "output_type": "execute_result"
    }
   ],
   "source": [
    "from sklearn.linear_model import LogisticRegression\n",
    "\n",
    "Lr= LogisticRegression(C = 0.01, random_state= 42)\n",
    "Lr.fit(X_train, y_train)\n",
    "y_pred = Lr.predict(X_test)\n",
    "y_pred"
   ]
  },
  {
   "cell_type": "code",
   "execution_count": 172,
   "metadata": {},
   "outputs": [
    {
     "data": {
      "text/plain": [
       "array([[0.40222515, 0.59777485],\n",
       "       [0.89281328, 0.10718672],\n",
       "       [0.04433153, 0.95566847],\n",
       "       ...,\n",
       "       [0.5645068 , 0.4354932 ],\n",
       "       [0.5304279 , 0.4695721 ],\n",
       "       [0.32828436, 0.67171564]])"
      ]
     },
     "execution_count": 172,
     "metadata": {},
     "output_type": "execute_result"
    }
   ],
   "source": [
    "y_pred_proba = Lr.predict_proba(X_test)\n",
    "y_pred_proba"
   ]
  },
  {
   "cell_type": "code",
   "execution_count": 173,
   "metadata": {},
   "outputs": [
    {
     "data": {
      "text/plain": [
       "0.7249882352941176"
      ]
     },
     "execution_count": 173,
     "metadata": {},
     "output_type": "execute_result"
    }
   ],
   "source": [
    "from sklearn.metrics import accuracy_score\n",
    "accuracy_score(y_test, y_pred)"
   ]
  },
  {
   "cell_type": "code",
   "execution_count": 174,
   "metadata": {},
   "outputs": [
    {
     "data": {
      "text/plain": [
       "0.7176129499879198"
      ]
     },
     "execution_count": 174,
     "metadata": {},
     "output_type": "execute_result"
    }
   ],
   "source": [
    "from sklearn.metrics import f1_score\n",
    "f1_score(y_test, y_pred)"
   ]
  }
 ],
 "metadata": {
  "kernelspec": {
   "display_name": "pythonProject",
   "language": "python",
   "name": "python3"
  },
  "language_info": {
   "codemirror_mode": {
    "name": "ipython",
    "version": 3
   },
   "file_extension": ".py",
   "mimetype": "text/x-python",
   "name": "python",
   "nbconvert_exporter": "python",
   "pygments_lexer": "ipython3",
   "version": "3.9.12"
  },
  "orig_nbformat": 4,
  "vscode": {
   "interpreter": {
    "hash": "45a60c048f4ccd6c48c495f838e9ad694b36421548fddd91d87e2ee8d4b585bd"
   }
  }
 },
 "nbformat": 4,
 "nbformat_minor": 2
}
